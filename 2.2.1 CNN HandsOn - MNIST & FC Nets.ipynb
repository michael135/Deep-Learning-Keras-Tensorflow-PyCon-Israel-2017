{
 "cells": [
  {
   "cell_type": "markdown",
   "metadata": {},
   "source": [
    "# Fully Connected Feed-Forward Network\n",
    "\n",
    "In this notebook we will play with Feed-Forward FC-NN (Fully Connected Neural Network) for a *classification task*: Image Classification on MNIST Dataset\n",
    "\n",
    "**RECALL**\n",
    "\n",
    "In the FC-NN, the output of each layer is computed using the activations from the previous one, as follows:\n",
    "\n",
    "$$h_{i} = \\sigma(W_i h_{i-1} + b_i)$$\n",
    "\n",
    "where ${h}_i$ is the activation vector from the $i$-th layer (or the input data for $i=0$), ${W}_i$ and ${b}_i$ are  the weight matrix and the bias vector for the $i$-th layer, respectively. \n",
    "<br><rb>\n",
    "$\\sigma(\\cdot)$ is the activation function. In our example, we will use the *ReLU* activation function for the hidden layers and *softmax* for the last layer.\n",
    "\n",
    "To regularize the model, we will also insert a Dropout layer between consecutive hidden layers. \n",
    "\n",
    "Dropout works by “dropping out” some unit activations in a given layer, that is setting them to zero with a given probability.\n",
    "\n",
    "Our loss function will be the **categorical crossentropy**."
   ]
  },
  {
   "cell_type": "markdown",
   "metadata": {},
   "source": [
    "## Model definition\n",
    "Keras supports two different kind of models: the [Sequential](http://keras.io/models/#sequential) model and the [Graph](http://keras.io/models/#graph) model. The former is used to build linear stacks of layer (so each layer has one input and one output), and the latter supports any kind of connection graph.\n",
    "\n",
    "In our case we build a Sequential model with three [Dense](http://keras.io/layers/core/#dense) (aka fully connected) layers, with some [Dropout](http://keras.io/layers/core/#dropout). Notice that the output layer has the softmax activation function. \n",
    "\n",
    "The resulting model is actually a `function` of its own inputs implemented using the Keras backend. \n",
    "\n",
    "We apply the binary crossentropy loss and choose SGD as the optimizer. \n",
    "\n",
    "Please remind that Keras supports a variety of different [optimizers](http://keras.io/optimizers/) and [loss functions](http://keras.io/objectives/), which you may want to check out. "
   ]
  },
  {
   "cell_type": "code",
   "execution_count": 36,
   "metadata": {
    "collapsed": true
   },
   "outputs": [],
   "source": [
    "from keras.models import Sequential\n",
    "from keras.layers.core import Dense, Dropout, Activation\n",
    "from keras.optimizers import SGD\n",
    "\n",
    "nb_classes = 10\n",
    "\n",
    "from keras.datasets import mnist\n",
    "from keras.utils import np_utils\n",
    "\n",
    "(X_train, y_train), (X_test, y_test) = mnist.load_data()\n",
    "X_train = X_train.reshape(60000, 784)\n",
    "X_test = X_test.reshape(10000, 784)\n",
    "X_train = X_train.astype(\"float32\")\n",
    "X_test = X_test.astype(\"float32\")\n",
    "X_train /= 255\n",
    "X_test /= 255\n",
    "\n",
    "# convert class vectors to binary class matrices\n",
    "Y_train = np_utils.to_categorical(y_train, 10)\n",
    "Y_test = np_utils.to_categorical(y_test, 10)\n",
    "# FC@512+relu -> DropOut(0.2) -> FC@512+relu -> DropOut(0.2) -> FC@nb_classes+softmax\n",
    "# ... your Code Here"
   ]
  },
  {
   "cell_type": "code",
   "execution_count": 28,
   "metadata": {
    "collapsed": true
   },
   "outputs": [],
   "source": [
    "model = Sequential()\n",
    "model.add(Dense(128, input_dim=784))\n",
    "model.add(Activation('relu'))\n",
    "# model.add(Dropout(0.2))\n",
    "# model.add(Dense(512))\n",
    "# model.add(Activation('relu'))\n",
    "# model.add(Dropout(.2))\n",
    "model.add(Dense(nb_classes))\n",
    "model.add(Activation('softmax'))\n",
    "model.compile(loss='categorical_crossentropy', optimizer=SGD(), \n",
    "              metrics=['accuracy'])"
   ]
  },
  {
   "cell_type": "code",
   "execution_count": 37,
   "metadata": {
    "collapsed": true
   },
   "outputs": [],
   "source": [
    "model = Sequential()\n",
    "model.add(Dense(10, input_dim=784))\n",
    "model.add(Activation('softmax'))\n",
    "model.compile(loss='categorical_crossentropy', optimizer=SGD(), \n",
    "              metrics=['accuracy'])"
   ]
  },
  {
   "cell_type": "code",
   "execution_count": 35,
   "metadata": {},
   "outputs": [
    {
     "name": "stdout",
     "output_type": "stream",
     "text": [
      "Train on 60000 samples, validate on 10000 samples\n",
      "Epoch 1/40\n",
      "60000/60000 [==============================] - 1s - loss: 1.2669 - acc: 0.7009 - val_loss: 0.8085 - val_acc: 0.8309\n",
      "Epoch 2/40\n",
      "60000/60000 [==============================] - 0s - loss: 0.7154 - acc: 0.8404 - val_loss: 0.6065 - val_acc: 0.8635\n",
      "Epoch 3/40\n",
      "60000/60000 [==============================] - 0s - loss: 0.5872 - acc: 0.8600 - val_loss: 0.5251 - val_acc: 0.8749\n",
      "Epoch 4/40\n",
      "60000/60000 [==============================] - 0s - loss: 0.5255 - acc: 0.8691 - val_loss: 0.4795 - val_acc: 0.8810\n",
      "Epoch 5/40\n",
      "60000/60000 [==============================] - 0s - loss: 0.4879 - acc: 0.8759 - val_loss: 0.4500 - val_acc: 0.8846\n",
      "Epoch 6/40\n",
      "60000/60000 [==============================] - 0s - loss: 0.4620 - acc: 0.8801 - val_loss: 0.4287 - val_acc: 0.8872\n",
      "Epoch 7/40\n",
      "60000/60000 [==============================] - 0s - loss: 0.4428 - acc: 0.8839 - val_loss: 0.4125 - val_acc: 0.8905\n",
      "Epoch 8/40\n",
      "60000/60000 [==============================] - 0s - loss: 0.4278 - acc: 0.8866 - val_loss: 0.3999 - val_acc: 0.8925\n",
      "Epoch 9/40\n",
      "60000/60000 [==============================] - 0s - loss: 0.4157 - acc: 0.8885 - val_loss: 0.3893 - val_acc: 0.8943\n",
      "Epoch 10/40\n",
      "60000/60000 [==============================] - 0s - loss: 0.4057 - acc: 0.8905 - val_loss: 0.3807 - val_acc: 0.8973\n",
      "Epoch 11/40\n",
      "60000/60000 [==============================] - 0s - loss: 0.3973 - acc: 0.8922 - val_loss: 0.3734 - val_acc: 0.8987\n",
      "Epoch 12/40\n",
      "60000/60000 [==============================] - 0s - loss: 0.3900 - acc: 0.8943 - val_loss: 0.3670 - val_acc: 0.9006\n",
      "Epoch 13/40\n",
      "60000/60000 [==============================] - 0s - loss: 0.3836 - acc: 0.8955 - val_loss: 0.3617 - val_acc: 0.9017\n",
      "Epoch 14/40\n",
      "60000/60000 [==============================] - 0s - loss: 0.3780 - acc: 0.8966 - val_loss: 0.3568 - val_acc: 0.9024\n",
      "Epoch 15/40\n",
      "60000/60000 [==============================] - 0s - loss: 0.3730 - acc: 0.8977 - val_loss: 0.3524 - val_acc: 0.9027\n",
      "Epoch 16/40\n",
      "60000/60000 [==============================] - 0s - loss: 0.3684 - acc: 0.8990 - val_loss: 0.3485 - val_acc: 0.9042\n",
      "Epoch 17/40\n",
      "60000/60000 [==============================] - 0s - loss: 0.3643 - acc: 0.8997 - val_loss: 0.3449 - val_acc: 0.9053\n",
      "Epoch 18/40\n",
      "60000/60000 [==============================] - 0s - loss: 0.3606 - acc: 0.9007 - val_loss: 0.3417 - val_acc: 0.9060\n",
      "Epoch 19/40\n",
      "60000/60000 [==============================] - 0s - loss: 0.3572 - acc: 0.9016 - val_loss: 0.3388 - val_acc: 0.9067\n",
      "Epoch 20/40\n",
      "60000/60000 [==============================] - 0s - loss: 0.3540 - acc: 0.9023 - val_loss: 0.3360 - val_acc: 0.9075\n",
      "Epoch 21/40\n",
      "60000/60000 [==============================] - 0s - loss: 0.3510 - acc: 0.9028 - val_loss: 0.3339 - val_acc: 0.9081\n",
      "Epoch 22/40\n",
      "60000/60000 [==============================] - 0s - loss: 0.3484 - acc: 0.9033 - val_loss: 0.3313 - val_acc: 0.9092\n",
      "Epoch 23/40\n",
      "60000/60000 [==============================] - 0s - loss: 0.3458 - acc: 0.9040 - val_loss: 0.3289 - val_acc: 0.9090\n",
      "Epoch 24/40\n",
      "60000/60000 [==============================] - 0s - loss: 0.3435 - acc: 0.9044 - val_loss: 0.3269 - val_acc: 0.9099\n",
      "Epoch 25/40\n",
      "60000/60000 [==============================] - 0s - loss: 0.3412 - acc: 0.9050 - val_loss: 0.3254 - val_acc: 0.9113\n",
      "Epoch 26/40\n",
      "60000/60000 [==============================] - 0s - loss: 0.3391 - acc: 0.9058 - val_loss: 0.3234 - val_acc: 0.9115\n",
      "Epoch 27/40\n",
      "60000/60000 [==============================] - 0s - loss: 0.3372 - acc: 0.9060 - val_loss: 0.3217 - val_acc: 0.9118\n",
      "Epoch 28/40\n",
      "60000/60000 [==============================] - 0s - loss: 0.3353 - acc: 0.9068 - val_loss: 0.3203 - val_acc: 0.9127\n",
      "Epoch 29/40\n",
      "60000/60000 [==============================] - 0s - loss: 0.3336 - acc: 0.9071 - val_loss: 0.3186 - val_acc: 0.9127\n",
      "Epoch 30/40\n",
      "60000/60000 [==============================] - 0s - loss: 0.3319 - acc: 0.9074 - val_loss: 0.3173 - val_acc: 0.9130\n",
      "Epoch 31/40\n",
      "60000/60000 [==============================] - 0s - loss: 0.3303 - acc: 0.9081 - val_loss: 0.3159 - val_acc: 0.9128\n",
      "Epoch 32/40\n",
      "60000/60000 [==============================] - 0s - loss: 0.3287 - acc: 0.9082 - val_loss: 0.3149 - val_acc: 0.9131\n",
      "Epoch 33/40\n",
      "60000/60000 [==============================] - 0s - loss: 0.3273 - acc: 0.9086 - val_loss: 0.3134 - val_acc: 0.9135\n",
      "Epoch 34/40\n",
      "60000/60000 [==============================] - 0s - loss: 0.3259 - acc: 0.9089 - val_loss: 0.3124 - val_acc: 0.9141\n",
      "Epoch 35/40\n",
      "60000/60000 [==============================] - 0s - loss: 0.3246 - acc: 0.9096 - val_loss: 0.3112 - val_acc: 0.9135\n",
      "Epoch 36/40\n",
      "60000/60000 [==============================] - 0s - loss: 0.3233 - acc: 0.9097 - val_loss: 0.3102 - val_acc: 0.9141\n",
      "Epoch 37/40\n",
      "60000/60000 [==============================] - 0s - loss: 0.3221 - acc: 0.9101 - val_loss: 0.3092 - val_acc: 0.9146\n",
      "Epoch 38/40\n",
      "60000/60000 [==============================] - 0s - loss: 0.3209 - acc: 0.9106 - val_loss: 0.3086 - val_acc: 0.9144\n",
      "Epoch 39/40\n",
      "60000/60000 [==============================] - 0s - loss: 0.3198 - acc: 0.9110 - val_loss: 0.3075 - val_acc: 0.9151\n",
      "Epoch 40/40\n",
      "60000/60000 [==============================] - 0s - loss: 0.3187 - acc: 0.9113 - val_loss: 0.3065 - val_acc: 0.9150\n"
     ]
    }
   ],
   "source": [
    "network_history = model.fit(X_train, Y_train, batch_size=128, \n",
    "                            epochs=40, verbose=1, validation_data=(X_test, Y_test))"
   ]
  },
  {
   "cell_type": "code",
   "execution_count": 38,
   "metadata": {},
   "outputs": [
    {
     "name": "stdout",
     "output_type": "stream",
     "text": [
      "_________________________________________________________________\n",
      "Layer (type)                 Output Shape              Param #   \n",
      "=================================================================\n",
      "dense_26 (Dense)             (None, 10)                7850      \n",
      "_________________________________________________________________\n",
      "activation_24 (Activation)   (None, 10)                0         \n",
      "=================================================================\n",
      "Total params: 7,850\n",
      "Trainable params: 7,850\n",
      "Non-trainable params: 0\n",
      "_________________________________________________________________\n"
     ]
    }
   ],
   "source": [
    "model.summary()"
   ]
  },
  {
   "cell_type": "code",
   "execution_count": null,
   "metadata": {
    "collapsed": true
   },
   "outputs": [],
   "source": [
    "# %load solutions/sol_221_1.py\n"
   ]
  },
  {
   "cell_type": "markdown",
   "metadata": {},
   "source": [
    "## Data preparation (`keras.dataset`)\n",
    "\n",
    "We will train our model on the MNIST dataset, which consists of 60,000 28x28 grayscale images of the 10 digits, along with a test set of 10,000 images. \n",
    "\n",
    "![](imgs/mnist.png)\n",
    "\n",
    "Since this dataset is **provided** with Keras, we just ask the `keras.dataset` model for training and test data.\n",
    "\n",
    "We will:\n",
    "\n",
    "* download the data\n",
    "* reshape data to be in vectorial form (original data are images)\n",
    "* normalize between 0 and 1.\n",
    "\n",
    "The `binary_crossentropy` loss expects a **one-hot-vector** as input, therefore we apply the `to_categorical` function from `keras.utilis` to convert integer labels to **one-hot-vectors**."
   ]
  },
  {
   "cell_type": "code",
   "execution_count": 4,
   "metadata": {
    "collapsed": true
   },
   "outputs": [],
   "source": [
    "from keras.datasets import mnist\n",
    "from keras.utils import np_utils\n",
    "\n",
    "(X_train, y_train), (X_test, y_test) = mnist.load_data()\n",
    "X_train = X_train.reshape(60000, 784)\n",
    "X_test = X_test.reshape(10000, 784)\n",
    "X_train = X_train.astype(\"float32\")\n",
    "X_test = X_test.astype(\"float32\")\n",
    "X_train /= 255\n",
    "X_test /= 255\n",
    "\n",
    "# convert class vectors to binary class matrices\n",
    "Y_train = np_utils.to_categorical(y_train, 10)\n",
    "Y_test = np_utils.to_categorical(y_test, 10)"
   ]
  },
  {
   "cell_type": "markdown",
   "metadata": {},
   "source": [
    "## Training\n",
    "Having defined and compiled the model, it can be trained using the `fit` function. We also specify a validation dataset to monitor validation loss and accuracy."
   ]
  },
  {
   "cell_type": "code",
   "execution_count": null,
   "metadata": {
    "collapsed": true,
    "scrolled": true
   },
   "outputs": [],
   "source": [
    "network_history = model.fit(X_train, Y_train, batch_size=128, \n",
    "                            epochs=100, verbose=1, validation_data=(X_test, Y_test))"
   ]
  },
  {
   "cell_type": "markdown",
   "metadata": {},
   "source": [
    "### Plotting Network Performance Trend\n",
    "The return value of the `fit` function is a `keras.callbacks.History` object which contains the entire history of training/validation loss and accuracy, for each epoch. We can therefore plot the behaviour of loss and accuracy during the training phase."
   ]
  },
  {
   "cell_type": "code",
   "execution_count": 25,
   "metadata": {},
   "outputs": [
    {
     "data": {
      "text/plain": [
       "<matplotlib.legend.Legend at 0x116541790>"
      ]
     },
     "execution_count": 25,
     "metadata": {},
     "output_type": "execute_result"
    },
    {
     "data": {
      "image/png": "[encoded data removed]",
      "text/plain": [
       "<matplotlib.figure.Figure at 0x127c4e7d0>"
      ]
     },
     "metadata": {},
     "output_type": "display_data"
    },
    {
     "data": {
      "image/png": "[encoded data removed]",
      "text/plain": [
       "<matplotlib.figure.Figure at 0x11651d5d0>"
      ]
     },
     "metadata": {},
     "output_type": "display_data"
    }
   ],
   "source": [
    "import matplotlib.pyplot as plt\n",
    "%matplotlib inline\n",
    "\n",
    "plt.figure()\n",
    "plt.xlabel('Epochs')\n",
    "plt.ylabel('Loss')\n",
    "plt.plot(network_history.history['loss'])\n",
    "plt.plot(network_history.history['val_loss'])\n",
    "plt.legend(['Training', 'Validation'])\n",
    "\n",
    "plt.figure()\n",
    "plt.xlabel('Epochs')\n",
    "plt.ylabel('Accuracy')\n",
    "plt.plot(network_history.history['acc'])\n",
    "plt.plot(network_history.history['val_acc'])\n",
    "plt.legend(['Training', 'Validation'], loc='lower right')"
   ]
  },
  {
   "cell_type": "markdown",
   "metadata": {},
   "source": [
    "After `100` epochs, we get a `98.8%` validation accuracy. \n",
    "\n",
    "If you continue training, at some point the validation loss will start to increase: that is when the model starts to **overfit**. \n",
    "\n",
    "It is always necessary to monitor training and validation loss during the training of any kind of Neural Network, either to detect overfitting or to evaluate the behaviour of the model **(any clue on how to do it??)**"
   ]
  },
  {
   "cell_type": "code",
   "execution_count": null,
   "metadata": {
    "collapsed": true
   },
   "outputs": [],
   "source": [
    "# %load solutions/sol_221_2.py\n",
    "from keras.callbacks import EarlyStopping\n",
    "\n",
    "early_stop = EarlyStopping(monitor='val_loss', patience=4, verbose=1)\n",
    "\n",
    "model = Sequential()\n",
    "model.add(Dense(512, activation='relu', input_shape=(784,)))\n",
    "model.add(Dropout(0.2))\n",
    "model.add(Dense(512, activation='relu'))\n",
    "model.add(Dropout(0.2))\n",
    "model.add(Dense(10, activation='softmax'))\n",
    "\n",
    "model.compile(loss='categorical_crossentropy', optimizer=SGD(), \n",
    "              metrics=['accuracy'])\n",
    "    \n",
    "model.fit(X_train, Y_train, validation_data = (X_test, Y_test), epochs=100, \n",
    "          batch_size=128, verbose=True, callbacks=[early_stop]) "
   ]
  },
  {
   "cell_type": "code",
   "execution_count": null,
   "metadata": {
    "collapsed": true
   },
   "outputs": [],
   "source": []
  }
 ],
 "metadata": {
  "kernelspec": {
   "display_name": "Python 2",
   "language": "python",
   "name": "python2"
  },
  "language_info": {
   "codemirror_mode": {
    "name": "ipython",
    "version": 2
   },
   "file_extension": ".py",
   "mimetype": "text/x-python",
   "name": "python",
   "nbconvert_exporter": "python",
   "pygments_lexer": "ipython2",
   "version": "2.7.13"
  }
 },
 "nbformat": 4,
 "nbformat_minor": 1
}
